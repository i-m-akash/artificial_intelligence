{
  "nbformat": 4,
  "nbformat_minor": 0,
  "metadata": {
    "colab": {
      "provenance": [],
      "authorship_tag": "ABX9TyPkgBGVOF5S9Hy52NMvj1a3",
      "include_colab_link": true
    },
    "kernelspec": {
      "name": "python3",
      "display_name": "Python 3"
    },
    "language_info": {
      "name": "python"
    }
  },
  "cells": [
    {
      "cell_type": "markdown",
      "metadata": {
        "id": "view-in-github",
        "colab_type": "text"
      },
      "source": [
        "<a href=\"https://colab.research.google.com/github/i-m-akash/artificial_intelligence/blob/main/A_algorithm_on_uttarakhand_map.ipynb\" target=\"_parent\"><img src=\"https://colab.research.google.com/assets/colab-badge.svg\" alt=\"Open In Colab\"/></a>"
      ]
    },
    {
      "cell_type": "code",
      "execution_count": null,
      "metadata": {
        "colab": {
          "base_uri": "https://localhost:8080/"
        },
        "id": "k-WtzbWCgcWc",
        "outputId": "704d55bf-8b30-4457-8b6e-da1f0179f3c9"
      },
      "outputs": [
        {
          "output_type": "stream",
          "name": "stdout",
          "text": [
            "Optimal nodes sequence: ['Dehradun', 'Rishikesh', 'Kashipur', 'Rudrapur']\n"
          ]
        }
      ],
      "source": [
        "# Define the Uttarakhand map as a graph\n",
        "uttarakhand_map = {\n",
        "    \"Dehradun\": [[\"Haridwar\", 53], [\"Rishikesh\", 24]],\n",
        "    \"Haridwar\": [[\"Rishikesh\", 20], [\"Nainital\", 220]],\n",
        "    \"Rishikesh\": [[\"Haridwar\", 20], [\"Dehradun\", 24], [\"Kashipur\", 116]],\n",
        "    \"Kashipur\": [[\"Rishikesh\", 116], [\"Rudrapur\", 45]],\n",
        "    \"Rudrapur\": [[\"Kashipur\", 45], [\"Nainital\", 65]],\n",
        "    \"Nainital\": [[\"Haridwar\", 220], [\"Rudrapur\", 65]],\n",
        "}\n",
        "\n",
        "# Define the heuristic function for Uttarakhand map\n",
        "heuristic_uttarakhand = {\n",
        "    \"Dehradun\": 200,  # Adjust these heuristic values based on your actual data\n",
        "    \"Haridwar\": 150,\n",
        "    \"Rishikesh\": 100,\n",
        "    \"Kashipur\": 80,\n",
        "    \"Rudrapur\": 0,    # Heuristic value for the goal state should be 0\n",
        "    \"Nainital\": 120,\n",
        "}\n",
        "\n",
        "cost = {\"Dehradun\": 0}  # Total cost for nodes visited\n",
        "\n",
        "def AStarSearch():\n",
        "    global uttarakhand_map, heuristic_uttarakhand\n",
        "    closed = []  # Closed nodes\n",
        "    opened = [[\"Dehradun\", heuristic_uttarakhand[\"Dehradun\"]]]  # Opened nodes with initial state\n",
        "\n",
        "    while True:\n",
        "        fn = [i[1] for i in opened]  # f(n) = g(n) + h(n)\n",
        "        chosen_index = fn.index(min(fn))\n",
        "        node = opened[chosen_index][0]  # Current node\n",
        "        closed.append(opened[chosen_index])\n",
        "        del opened[chosen_index]\n",
        "        if closed[-1][0] == \"Rudrapur\":  # Break the loop if the goal node has been found\n",
        "            break\n",
        "        for item in uttarakhand_map[node]:\n",
        "            if item[0] in [closed_item[0] for closed_item in closed]:\n",
        "                continue\n",
        "            cost.update({item[0]: cost[node] + item[1]})  # Add nodes to the cost dictionary\n",
        "            fn_node = cost[node] + heuristic_uttarakhand[item[0]] + item[1]  # Calculate f(n) of the current node\n",
        "            temp = [item[0], fn_node]\n",
        "            opened.append(temp)  # Store f(n) of the current node in the opened list\n",
        "\n",
        "    # Find the optimal sequence\n",
        "    trace_node = \"Rudrapur\"  # Correct optimal tracing node, initialize as the goal node\n",
        "    optimal_sequence = [\"Rudrapur\"]  # Optimal node sequence\n",
        "    for i in range(len(closed) - 2, -1, -1):\n",
        "        check_node = closed[i][0]  # Current node\n",
        "        if trace_node in [children[0] for children in uttarakhand_map[check_node]]:\n",
        "            children_costs = [temp[1] for temp in uttarakhand_map[check_node]]\n",
        "            children_nodes = [temp[0] for temp in uttarakhand_map[check_node]]\n",
        "            # Check whether h(s) + g(s) = f(s). If so, append the current node to the optimal sequence\n",
        "            if cost[check_node] + children_costs[children_nodes.index(trace_node)] == cost[trace_node]:\n",
        "                optimal_sequence.append(check_node)\n",
        "                trace_node = check_node\n",
        "    optimal_sequence.reverse()  # Reverse the optimal sequence\n",
        "\n",
        "    return closed, optimal_sequence\n",
        "\n",
        "if __name__ == \"__main__\":\n",
        "    visited_nodes, optimal_nodes = AStarSearch()\n",
        "   # print(\"Visited nodes: \" + str(visited_nodes))\n",
        "    print(\"Optimal nodes sequence: \" + str(optimal_nodes))\n"
      ]
    }
  ]
}