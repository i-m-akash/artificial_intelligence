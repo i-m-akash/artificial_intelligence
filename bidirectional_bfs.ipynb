{
  "nbformat": 4,
  "nbformat_minor": 0,
  "metadata": {
    "colab": {
      "provenance": [],
      "authorship_tag": "ABX9TyOzjDNIruh3MwbbeI0Pov7Q",
      "include_colab_link": true
    },
    "kernelspec": {
      "name": "python3",
      "display_name": "Python 3"
    },
    "language_info": {
      "name": "python"
    }
  },
  "cells": [
    {
      "cell_type": "markdown",
      "metadata": {
        "id": "view-in-github",
        "colab_type": "text"
      },
      "source": [
        "<a href=\"https://colab.research.google.com/github/i-m-akash/artificial_intelligence/blob/main/bidirectional_bfs.ipynb\" target=\"_parent\"><img src=\"https://colab.research.google.com/assets/colab-badge.svg\" alt=\"Open In Colab\"/></a>"
      ]
    },
    {
      "cell_type": "code",
      "execution_count": 2,
      "metadata": {
        "colab": {
          "base_uri": "https://localhost:8080/"
        },
        "id": "xOCj35GoXspn",
        "outputId": "9a274b8d-3b7c-4979-e21b-51c69986bf17"
      },
      "outputs": [
        {
          "output_type": "stream",
          "name": "stdout",
          "text": [
            "Path between Dehradun and Rudrapur:\n",
            "Haridwar -> Nazibabad -> Rudrapur\n"
          ]
        }
      ],
      "source": [
        "from collections import defaultdict, deque\n",
        "\n",
        "# Create a dictionary to represent the cities and their neighboring cities\n",
        "# Replace this with your actual city graph\n",
        "city_graph = {\n",
        "    'Dehradun': ['Haridwar', 'Rishikesh'],\n",
        "    'Haridwar': ['Dehradun', 'Rishikesh''Nazibabad'],\n",
        "    'Rishikesh': ['Dehradun', 'Haridwar'],\n",
        "    'Rudrapur': ['Nazibabad'],\n",
        "    'Nazibabad':['Rudrapur','Haridwar']\n",
        "}\n",
        "\n",
        "def bidirectional_bfs(graph, start, end):\n",
        "    # Queue for forward BFS (from start)\n",
        "    forward_queue = deque([(start, [start])])\n",
        "    # Queue for backward BFS (from end)\n",
        "    backward_queue = deque([(end, [end])])\n",
        "    # Sets to keep track of visited nodes\n",
        "    forward_visited = set([start])\n",
        "    backward_visited = set([end])\n",
        "\n",
        "    while forward_queue and backward_queue:\n",
        "        # Forward BFS\n",
        "        current_node, path_so_far = forward_queue.popleft()\n",
        "        for neighbor in graph[current_node]:\n",
        "            if neighbor not in forward_visited:\n",
        "                forward_visited.add(neighbor)\n",
        "                new_path = path_so_far + [neighbor]\n",
        "                forward_queue.append((neighbor, new_path))\n",
        "                if neighbor in backward_visited:\n",
        "                    return new_path  # Path found!\n",
        "\n",
        "        # Backward BFS\n",
        "        current_node, path_so_far = backward_queue.popleft()\n",
        "        for neighbor in graph[current_node]:\n",
        "            if neighbor not in backward_visited:\n",
        "                backward_visited.add(neighbor)\n",
        "                new_path = [neighbor] + path_so_far\n",
        "                backward_queue.append((neighbor, new_path))\n",
        "                if neighbor in forward_visited:\n",
        "                    return new_path  # Path found!\n",
        "\n",
        "    return None  # No path exists\n",
        "\n",
        "# Start and end cities\n",
        "start_city = 'Dehradun'\n",
        "end_city = 'Rudrapur'\n",
        "\n",
        "# Find the path using bidirectional BFS\n",
        "path = bidirectional_bfs(city_graph, start_city, end_city)\n",
        "\n",
        "if path:\n",
        "    print(f\"Path between {start_city} and {end_city}:\")\n",
        "    print(\" -> \".join(path))\n",
        "else:\n",
        "    print(f\"No path found between {start_city} and {end_city}.\")\n"
      ]
    }
  ]
}