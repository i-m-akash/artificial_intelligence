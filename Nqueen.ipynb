{
  "nbformat": 4,
  "nbformat_minor": 0,
  "metadata": {
    "colab": {
      "provenance": [],
      "authorship_tag": "ABX9TyOt7rce8AB+0Yktx3Wj42n6",
      "include_colab_link": true
    },
    "kernelspec": {
      "name": "python3",
      "display_name": "Python 3"
    },
    "language_info": {
      "name": "python"
    }
  },
  "cells": [
    {
      "cell_type": "markdown",
      "metadata": {
        "id": "view-in-github",
        "colab_type": "text"
      },
      "source": [
        "<a href=\"https://colab.research.google.com/github/i-m-akash/artificial_intelligence/blob/main/Nqueen.ipynb\" target=\"_parent\"><img src=\"https://colab.research.google.com/assets/colab-badge.svg\" alt=\"Open In Colab\"/></a>"
      ]
    },
    {
      "cell_type": "code",
      "source": [
        "global N\n",
        "N = 4\n",
        "\n",
        "def printSolution(board):\n",
        "    for i in range(N):\n",
        "        for j in range(N):\n",
        "            print (board[i][j],end=' ')\n",
        "        print()\n",
        "def printSolution2(board):\n",
        "    for i in range(N):\n",
        "        for j in range(N):\n",
        "            print (board[j][i],end=' ')\n",
        "        print()\n",
        "\n",
        "\n",
        "def isSafe(board,row,col):\n",
        " for i in range(col):\n",
        "        if board[row][i] == 1:\n",
        "            return False\n",
        "\n",
        "\n",
        "\n",
        "\n",
        " for i, j in zip(range(row, -1, -1), range(col, -1, -1)):\n",
        "        if board[i][j] == 1:\n",
        "            return False\n",
        "\n",
        "\n",
        " for i, j in zip(range(row, N, 1), range(col, -1, -1)):\n",
        "        if board[i][j] == 1:\n",
        "            return False\n",
        "        for i in range(N):\n",
        "         for j in range(N):\n",
        "            print (board[i][j],end=' ')\n",
        "        print(\"\\n\")\n",
        "\n",
        " return True\n",
        "\n",
        "def solveNQUtil(board, col):\n",
        "\n",
        "    if col >= N:\n",
        "        return True\n",
        "\n",
        "    for i in range(N):\n",
        "\n",
        "        if isSafe(board, i, col):\n",
        "\n",
        "            board[i][col] = 1\n",
        "\n",
        "\n",
        "            if solveNQUtil(board, col + 1) == True:\n",
        "                return True\n",
        "\n",
        "            board[i][col] = 0\n",
        "\n",
        "    return False\n",
        "\n",
        "\n",
        "\n",
        "def solveNQ():\n",
        "    board = [ [0, 0, 0, 0],\n",
        "              [0, 0, 0, 0],\n",
        "              [0, 0, 0, 0],\n",
        "              [0, 0, 0, 0],\n",
        "\n",
        "             ]\n",
        "\n",
        "    if solveNQUtil(board, 0) == False:\n",
        "        print (\"Solution does not exist\")\n",
        "        return False\n",
        "\n",
        "    printSolution(board)\n",
        "\n",
        "    #mirror image solution\n",
        "    print(\"*****************************************************************************\")\n",
        "    printSolution2(board)\n",
        "    return True\n",
        "\n",
        "solveNQ()\n",
        "\n",
        "\n"
      ],
      "metadata": {
        "id": "2-pegz9F6JIc",
        "colab": {
          "base_uri": "https://localhost:8080/"
        },
        "outputId": "cb364443-6678-4bd4-a4be-3716a7848271"
      },
      "execution_count": null,
      "outputs": [
        {
          "output_type": "stream",
          "name": "stdout",
          "text": [
            "0 0 0 0 0 0 0 0 0 0 0 0 0 0 0 0 \n",
            "\n",
            "1 0 0 0 0 0 0 0 0 0 0 0 0 0 0 0 \n",
            "\n",
            "1 0 0 0 0 0 0 0 0 0 0 0 0 0 0 0 \n",
            "\n",
            "1 0 0 0 0 0 0 0 0 1 0 0 0 0 0 0 \n",
            "\n",
            "1 0 0 0 0 0 0 0 0 0 0 0 0 0 0 0 \n",
            "\n",
            "1 0 0 0 0 0 0 0 0 0 0 0 0 1 0 0 \n",
            "\n",
            "1 0 0 0 0 0 0 0 0 0 0 0 0 1 0 0 \n",
            "\n",
            "1 0 0 0 0 0 0 0 0 0 0 0 0 1 0 0 \n",
            "\n",
            "0 0 0 0 0 0 0 0 0 0 0 0 0 0 0 0 \n",
            "\n",
            "0 0 0 0 1 0 0 0 0 0 0 0 0 0 0 0 \n",
            "\n",
            "0 0 0 0 1 0 0 0 0 0 0 0 0 0 0 0 \n",
            "\n",
            "0 0 0 0 1 0 0 0 0 0 0 0 0 1 0 0 \n",
            "\n",
            "0 0 0 0 1 0 0 0 0 0 0 0 0 1 0 0 \n",
            "\n",
            "0 0 0 0 1 0 0 0 0 0 0 0 0 1 0 0 \n",
            "\n",
            "0 0 1 0 1 0 0 0 0 0 0 0 0 1 0 0 \n",
            "\n",
            "0 0 1 0 1 0 0 0 0 0 0 0 0 1 0 0 \n",
            "\n",
            "0 0 1 0 \n",
            "1 0 0 0 \n",
            "0 0 0 1 \n",
            "0 1 0 0 \n",
            "*****************************************************************************\n",
            "0 1 0 0 \n",
            "0 0 0 1 \n",
            "1 0 0 0 \n",
            "0 0 1 0 \n"
          ]
        },
        {
          "output_type": "execute_result",
          "data": {
            "text/plain": [
              "True"
            ]
          },
          "metadata": {},
          "execution_count": 20
        }
      ]
    }
  ]
}